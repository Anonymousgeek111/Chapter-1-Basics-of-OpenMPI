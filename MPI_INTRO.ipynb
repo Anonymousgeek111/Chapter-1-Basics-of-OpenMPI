{
 "cells": [
  {
   "cell_type": "markdown",
   "id": "129b63b5-d919-45bc-b450-aabd4fa38bfc",
   "metadata": {},
   "source": [
    "Introduction To MPI :\n",
    "\n",
    "The Message Passing Interface Standard (MPI) is a message passing library.The goal of the Message Passing Interface is to establish a portable, efficient, and flexible standard for message passing that will be widely used for writing message passing programs. MPI is a specification for the developers and users of message passing libraries.MPI addresses the message-passing parallel programming model: data is moved from the address space of one process to that of another process through cooperative operations on each process."
   ]
  },
  {
   "cell_type": "markdown",
   "id": "60effbbc-1612-4fa0-a1cd-ff2de3dda3c1",
   "metadata": {},
   "source": [
    "# Getting Started :\n",
    "![Alt text](https://hpc-tutorials.llnl.gov/mpi/images/prog_structure.gif)\r\n"
   ]
  },
  {
   "cell_type": "markdown",
   "id": "4b777bc4-f5d9-4854-a100-7d421f2d0f75",
   "metadata": {},
   "source": [
    "Header File:\n",
    "Required for all programs that make MPI library calls\n",
    "C File :- #include \"mpi.h\"\n"
   ]
  },
  {
   "cell_type": "markdown",
   "id": "932990f3-56fb-4991-af2d-3abc4dad2534",
   "metadata": {},
   "source": [
    "MPI uses objects called communicators and groups to define which collection of processes may communicate with each other.\n",
    "Most MPI routines require you to specify a communicator as an argument.\n",
    "simply use MPI_COMM_WORLD whenever a communicator is required - it is the predefined communicator that includes all of your MPI processes.\n",
    "\n",
    "Rank:\n",
    "Within a communicator, every process has its own unique, integer identifier assigned by the system when the process initializes. A rank is sometimes also called a “task ID”. Ranks are contiguous and begin at zero.\n",
    "Used by the programmer to specify the source and destination of messages. Often used conditionally by the application to control program execution (if rank=0 do this / if rank=1 do that).\n"
   ]
  },
  {
   "cell_type": "markdown",
   "id": "28b0961b-60c3-4283-9651-44ff54c8f518",
   "metadata": {},
   "source": [
    "Environment Management Routines\n",
    "This group of routines is used for interrogating and setting the MPI execution environment, and covers an assortment of purposes, such as initializing and terminating the MPI environment, querying a rank’s identity, querying the MPI library’s version, etc. Some of the commonly used ones are described below.\n",
    "\n",
    "1.MPI_Init\n",
    "Initializes the MPI execution environment. This function must be called in every MPI program, must be called before any other MPI functions and must be called only once in an MPI program\n",
    "eg. MPI_Init (&argc,&argv)\n",
    "\n",
    "2. MPI_Comm_size\n",
    "Returns the total number of MPI processes in the specified communicator, such as MPI_COMM_WORLD. If the communicator is MPI_COMM_WORLD, then it represents the number of MPI tasks available to your application.\n",
    "eg. MPI_Comm_size (comm,&size)\n",
    "\n",
    "3. MPI_Comm_rank\n",
    "Returns the rank of the calling MPI process within the specified communicator. Initially, each process will be assigned a unique integer rank between 0 and number of tasks - 1 within the communicator MPI_COMM_WORLD. This rank is often referred to as a task ID. If a process becomes associated with other communicators, it will have a unique rank within each of these as well.\n",
    "eg. MPI_Comm_rank (comm,&rank)\n",
    "\n",
    "4. MPI_Finalize\n",
    "Terminates the MPI execution environment. This function should be the last MPI routine called in every MPI program - no other MPI routines may be called after it.\n",
    "MPI_Finalize ()\n"
   ]
  },
  {
   "cell_type": "code",
   "execution_count": 3,
   "id": "196d2841-6599-4051-a227-4a0f2307e8ea",
   "metadata": {},
   "outputs": [
    {
     "name": "stdout",
     "output_type": "stream",
     "text": [
      "Writing mpi_hello.c\n"
     ]
    }
   ],
   "source": [
    "%%writefile mpi_hello.c\n",
    "\n",
    "#include <stdio.h>\n",
    "#include <mpi.h>\n",
    "\n",
    "int main(int argc, char *argv[]) {\n",
    "    int rank, size;\n",
    "\n",
    "    MPI_Init(&argc, &argv);\n",
    "    MPI_Comm_rank(MPI_COMM_WORLD, &rank);\n",
    "    MPI_Comm_size(MPI_COMM_WORLD, &size);\n",
    "\n",
    "    printf(\"Hello, world! I am process %d of %d\\n\", rank, size);\n",
    "\n",
    "    MPI_Finalize();\n",
    "    return 0;\n",
    "}\n"
   ]
  },
  {
   "cell_type": "code",
   "execution_count": 4,
   "id": "402f79d6-7f61-4f01-9468-6869b9276a77",
   "metadata": {},
   "outputs": [
    {
     "name": "stderr",
     "output_type": "stream",
     "text": [
      "-bash: line 2: mpicc: command not found\n",
      "-bash: line 3: mpirun: command not found\n"
     ]
    },
    {
     "ename": "CalledProcessError",
     "evalue": "Command 'b'\\nmpicc mpi_hello.c -o mpi_hello\\nmpirun -np 4 ./mpi_hello\\n\\n'' returned non-zero exit status 127.",
     "output_type": "error",
     "traceback": [
      "\u001b[1;31m---------------------------------------------------------------------------\u001b[0m",
      "\u001b[1;31mCalledProcessError\u001b[0m                        Traceback (most recent call last)",
      "Cell \u001b[1;32mIn[4], line 1\u001b[0m\n\u001b[1;32m----> 1\u001b[0m \u001b[43mget_ipython\u001b[49m\u001b[43m(\u001b[49m\u001b[43m)\u001b[49m\u001b[38;5;241;43m.\u001b[39;49m\u001b[43mrun_cell_magic\u001b[49m\u001b[43m(\u001b[49m\u001b[38;5;124;43m'\u001b[39;49m\u001b[38;5;124;43mscript\u001b[39;49m\u001b[38;5;124;43m'\u001b[39;49m\u001b[43m,\u001b[49m\u001b[43m \u001b[49m\u001b[38;5;124;43m'\u001b[39;49m\u001b[38;5;124;43mbash\u001b[39;49m\u001b[38;5;124;43m'\u001b[39;49m\u001b[43m,\u001b[49m\u001b[43m \u001b[49m\u001b[38;5;124;43m'\u001b[39;49m\u001b[38;5;130;43;01m\\n\u001b[39;49;00m\u001b[38;5;124;43mmpicc mpi_hello.c -o mpi_hello\u001b[39;49m\u001b[38;5;130;43;01m\\n\u001b[39;49;00m\u001b[38;5;124;43mmpirun -np 4 ./mpi_hello\u001b[39;49m\u001b[38;5;130;43;01m\\n\u001b[39;49;00m\u001b[38;5;130;43;01m\\n\u001b[39;49;00m\u001b[38;5;124;43m'\u001b[39;49m\u001b[43m)\u001b[49m\n",
      "File \u001b[1;32m~\\AppData\\Roaming\\Python\\Python311\\site-packages\\IPython\\core\\interactiveshell.py:2493\u001b[0m, in \u001b[0;36mInteractiveShell.run_cell_magic\u001b[1;34m(self, magic_name, line, cell)\u001b[0m\n\u001b[0;32m   2491\u001b[0m \u001b[38;5;28;01mwith\u001b[39;00m \u001b[38;5;28mself\u001b[39m\u001b[38;5;241m.\u001b[39mbuiltin_trap:\n\u001b[0;32m   2492\u001b[0m     args \u001b[38;5;241m=\u001b[39m (magic_arg_s, cell)\n\u001b[1;32m-> 2493\u001b[0m     result \u001b[38;5;241m=\u001b[39m \u001b[43mfn\u001b[49m\u001b[43m(\u001b[49m\u001b[38;5;241;43m*\u001b[39;49m\u001b[43margs\u001b[49m\u001b[43m,\u001b[49m\u001b[43m \u001b[49m\u001b[38;5;241;43m*\u001b[39;49m\u001b[38;5;241;43m*\u001b[39;49m\u001b[43mkwargs\u001b[49m\u001b[43m)\u001b[49m\n\u001b[0;32m   2495\u001b[0m \u001b[38;5;66;03m# The code below prevents the output from being displayed\u001b[39;00m\n\u001b[0;32m   2496\u001b[0m \u001b[38;5;66;03m# when using magics with decorator @output_can_be_silenced\u001b[39;00m\n\u001b[0;32m   2497\u001b[0m \u001b[38;5;66;03m# when the last Python token in the expression is a ';'.\u001b[39;00m\n\u001b[0;32m   2498\u001b[0m \u001b[38;5;28;01mif\u001b[39;00m \u001b[38;5;28mgetattr\u001b[39m(fn, magic\u001b[38;5;241m.\u001b[39mMAGIC_OUTPUT_CAN_BE_SILENCED, \u001b[38;5;28;01mFalse\u001b[39;00m):\n",
      "File \u001b[1;32m~\\AppData\\Roaming\\Python\\Python311\\site-packages\\IPython\\core\\magics\\script.py:314\u001b[0m, in \u001b[0;36mScriptMagics.shebang\u001b[1;34m(self, line, cell)\u001b[0m\n\u001b[0;32m    309\u001b[0m \u001b[38;5;28;01mif\u001b[39;00m args\u001b[38;5;241m.\u001b[39mraise_error \u001b[38;5;129;01mand\u001b[39;00m p\u001b[38;5;241m.\u001b[39mreturncode \u001b[38;5;241m!=\u001b[39m \u001b[38;5;241m0\u001b[39m:\n\u001b[0;32m    310\u001b[0m     \u001b[38;5;66;03m# If we get here and p.returncode is still None, we must have\u001b[39;00m\n\u001b[0;32m    311\u001b[0m     \u001b[38;5;66;03m# killed it but not yet seen its return code. We don't wait for it,\u001b[39;00m\n\u001b[0;32m    312\u001b[0m     \u001b[38;5;66;03m# in case it's stuck in uninterruptible sleep. -9 = SIGKILL\u001b[39;00m\n\u001b[0;32m    313\u001b[0m     rc \u001b[38;5;241m=\u001b[39m p\u001b[38;5;241m.\u001b[39mreturncode \u001b[38;5;129;01mor\u001b[39;00m \u001b[38;5;241m-\u001b[39m\u001b[38;5;241m9\u001b[39m\n\u001b[1;32m--> 314\u001b[0m     \u001b[38;5;28;01mraise\u001b[39;00m CalledProcessError(rc, cell)\n",
      "\u001b[1;31mCalledProcessError\u001b[0m: Command 'b'\\nmpicc mpi_hello.c -o mpi_hello\\nmpirun -np 4 ./mpi_hello\\n\\n'' returned non-zero exit status 127."
     ]
    }
   ],
   "source": [
    "%%script bash\n",
    "\n",
    "mpicc mpi_hello.c -o mpi_hello\n",
    "mpirun -np 4 ./mpi_hello\n",
    "\n"
   ]
  },
  {
   "cell_type": "code",
   "execution_count": null,
   "id": "ee0d118c-1955-41a1-b318-793a6c112894",
   "metadata": {},
   "outputs": [],
   "source": []
  }
 ],
 "metadata": {
  "kernelspec": {
   "display_name": "Python 3 (ipykernel)",
   "language": "python",
   "name": "python3"
  },
  "language_info": {
   "codemirror_mode": {
    "name": "ipython",
    "version": 3
   },
   "file_extension": ".py",
   "mimetype": "text/x-python",
   "name": "python",
   "nbconvert_exporter": "python",
   "pygments_lexer": "ipython3",
   "version": "3.11.0"
  }
 },
 "nbformat": 4,
 "nbformat_minor": 5
}
